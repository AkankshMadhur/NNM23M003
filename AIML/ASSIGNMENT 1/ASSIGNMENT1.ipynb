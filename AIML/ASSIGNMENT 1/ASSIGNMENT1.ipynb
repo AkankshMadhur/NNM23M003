{
 "cells": [
  {
   "cell_type": "code",
   "execution_count": 3,
   "metadata": {},
   "outputs": [
    {
     "name": "stdout",
     "output_type": "stream",
     "text": [
      "Mixed List: [42, 3.14, 'hello', True, [1, 2, 3]]\n",
      "Element: 42, Type: <class 'int'>\n",
      "Element: 3.14, Type: <class 'float'>\n",
      "Element: hello, Type: <class 'str'>\n",
      "Element: True, Type: <class 'bool'>\n",
      "Element: [1, 2, 3], Type: <class 'list'>\n"
     ]
    }
   ],
   "source": [
    "\n",
    "mixed_list = [42, 3.14, \"hello\", True, [1, 2, 3]]\n",
    "\n",
    "\n",
    "print(\"Mixed List:\", mixed_list)\n",
    "\n",
    "\n",
    "for element in mixed_list:\n",
    "    print(f\"Element: {element}, Type: {type(element)}\")\n"
   ]
  },
  {
   "cell_type": "code",
   "execution_count": 6,
   "metadata": {},
   "outputs": [
    {
     "name": "stdout",
     "output_type": "stream",
     "text": [
      "7 is not in the list.\n"
     ]
    }
   ],
   "source": [
    "\n",
    "my_list = [1, 2, 3, 4, 5]\n",
    "\n",
    "\n",
    "element_to_check = 7\n",
    "\n",
    "\n",
    "if element_to_check in my_list:\n",
    "    print(f\"{element_to_check} is in the list.\")\n",
    "else:\n",
    "    print(str(element_to_check)+\" is not in the list.\")\n"
   ]
  },
  {
   "cell_type": "code",
   "execution_count": 5,
   "metadata": {},
   "outputs": [
    {
     "name": "stdout",
     "output_type": "stream",
     "text": [
      "5\n"
     ]
    }
   ],
   "source": [
    "my_list = [1, 2, 3, 4, 5]\n",
    "print(len(my_list))"
   ]
  },
  {
   "cell_type": "code",
   "execution_count": 9,
   "metadata": {},
   "outputs": [
    {
     "name": "stdout",
     "output_type": "stream",
     "text": [
      "[1, 4, 9, 16, 25]\n"
     ]
    }
   ],
   "source": [
    "n=[1,2,3,4,5]\n",
    "\n",
    "sqlist=[x**2 for x in n]\n",
    "\n",
    "print(sqlist)"
   ]
  },
  {
   "cell_type": "code",
   "execution_count": 23,
   "metadata": {},
   "outputs": [
    {
     "name": "stdout",
     "output_type": "stream",
     "text": [
      "[7, 5, 4, 3, 2, 1]\n"
     ]
    }
   ],
   "source": [
    "\n",
    "n = [1, 2, 3, 4, 7, 4, 5]\n",
    "n = set(n)\n",
    "print(sorted(n,reverse=True))"
   ]
  },
  {
   "cell_type": "code",
   "execution_count": 26,
   "metadata": {},
   "outputs": [
    {
     "name": "stdout",
     "output_type": "stream",
     "text": [
      "not same\n"
     ]
    }
   ],
   "source": [
    "ls1=[1,2,3,4,5]\n",
    "ls2=[5,4,3,6,2,1]\n",
    "set1=set(ls1)\n",
    "set2=set(ls2)\n",
    "if set1==set2:\n",
    "    print(\"list is same\")\n",
    "else:\n",
    "    print (\"not same\")"
   ]
  },
  {
   "cell_type": "code",
   "execution_count": 28,
   "metadata": {},
   "outputs": [
    {
     "name": "stdout",
     "output_type": "stream",
     "text": [
      "list is same\n"
     ]
    }
   ],
   "source": [
    "ls1=[1,2,3,4,5]\n",
    "ls2=[5,4,3,2,1]\n",
    "ls1.sort()\n",
    "ls2.sort()\n",
    "if ls1==ls2:\n",
    "    print(\"list is same\")\n",
    "else:\n",
    "    print (\"not same\")\n",
    "\n"
   ]
  },
  {
   "cell_type": "code",
   "execution_count": null,
   "metadata": {},
   "outputs": [],
   "source": []
  }
 ],
 "metadata": {
  "kernelspec": {
   "display_name": "Python 3",
   "language": "python",
   "name": "python3"
  },
  "language_info": {
   "codemirror_mode": {
    "name": "ipython",
    "version": 3
   },
   "file_extension": ".py",
   "mimetype": "text/x-python",
   "name": "python",
   "nbconvert_exporter": "python",
   "pygments_lexer": "ipython3",
   "version": "3.10.12"
  }
 },
 "nbformat": 4,
 "nbformat_minor": 2
}
