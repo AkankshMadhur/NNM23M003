{
 "cells": [
  {
   "cell_type": "code",
   "execution_count": 3,
   "metadata": {},
   "outputs": [
    {
     "name": "stdout",
     "output_type": "stream",
     "text": [
      "Mixed List: [42, 3.14, 'hello', True, [1, 2, 3]]\n",
      "Element: 42, Type: <class 'int'>\n",
      "Element: 3.14, Type: <class 'float'>\n",
      "Element: hello, Type: <class 'str'>\n",
      "Element: True, Type: <class 'bool'>\n",
      "Element: [1, 2, 3], Type: <class 'list'>\n"
     ]
    }
   ],
   "source": [
    "\n",
    "mixed_list = [42, 3.14, \"hello\", True, [1, 2, 3]]\n",
    "\n",
    "\n",
    "print(\"Mixed List:\", mixed_list)\n",
    "\n",
    "\n",
    "for element in mixed_list:\n",
    "    print(f\"Element: {element}, Type: {type(element)}\")\n"
   ]
  },
  {
   "cell_type": "code",
   "execution_count": 6,
   "metadata": {},
   "outputs": [
    {
     "name": "stdout",
     "output_type": "stream",
     "text": [
      "7 is not in the list.\n"
     ]
    }
   ],
   "source": [
    "# Define a list\n",
    "my_list = [1, 2, 3, 4, 5]\n",
    "\n",
    "# Element to check\n",
    "element_to_check = 7\n",
    "\n",
    "# Check if the element exists in the list\n",
    "if element_to_check in my_list:\n",
    "    print(f\"{element_to_check} is in the list.\")\n",
    "else:\n",
    "    print(str(element_to_check)+\" is not in the list.\")\n"
   ]
  },
  {
   "cell_type": "code",
   "execution_count": null,
   "metadata": {},
   "outputs": [],
   "source": []
  }
 ],
 "metadata": {
  "kernelspec": {
   "display_name": "Python 3",
   "language": "python",
   "name": "python3"
  },
  "language_info": {
   "codemirror_mode": {
    "name": "ipython",
    "version": 3
   },
   "file_extension": ".py",
   "mimetype": "text/x-python",
   "name": "python",
   "nbconvert_exporter": "python",
   "pygments_lexer": "ipython3",
   "version": "3.12.4"
  }
 },
 "nbformat": 4,
 "nbformat_minor": 2
}
