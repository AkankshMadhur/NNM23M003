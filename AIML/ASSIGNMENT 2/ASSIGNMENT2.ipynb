{
 "cells": [
  {
   "cell_type": "code",
   "execution_count": 1,
   "metadata": {},
   "outputs": [
    {
     "name": "stdout",
     "output_type": "stream",
     "text": [
      "hi\n"
     ]
    }
   ],
   "source": [
    "print(\"hi\")"
   ]
  },
  {
   "cell_type": "code",
   "execution_count": 2,
   "metadata": {},
   "outputs": [
    {
     "name": "stdout",
     "output_type": "stream",
     "text": [
      "lcm of 5 and 5 is 5\n"
     ]
    }
   ],
   "source": [
    "def findlcm(num1,num2):\n",
    "    greater=max(num1,num2)\n",
    "    lcm=greater\n",
    "    while True:\n",
    "        if lcm%num1==0 and lcm%num2==0:\n",
    "            break\n",
    "        lcm +=greater\n",
    "    return lcm\n",
    "\n",
    "num1=int(input(\"enternum1\"))\n",
    "num2=int(input(\"enternum2\"))\n",
    "lcm=findlcm(num1,num2)\n",
    "\n",
    "print(\"lcm of\",num1,\"and\", num2 ,\"is\", lcm)     "
   ]
  },
  {
   "cell_type": "code",
   "execution_count": 3,
   "metadata": {},
   "outputs": [
    {
     "name": "stdout",
     "output_type": "stream",
     "text": [
      "LCM of 5 and 5 is 5\n"
     ]
    }
   ],
   "source": [
    "def find_lcm(num1, num2):\n",
    "    greater = max(num1, num2)\n",
    "    lcm = greater\n",
    "    while True:\n",
    "        if lcm % num1 == 0 and lcm % num2 == 0:\n",
    "            return lcm\n",
    "        lcm += greater\n",
    "\n",
    "# Input handling\n",
    "try:\n",
    "    num1 = int(input(\"Enter num1: \"))\n",
    "    num2 = int(input(\"Enter num2: \"))\n",
    "    \n",
    "    lcm = find_lcm(num1, num2)\n",
    "    \n",
    "    print(\"LCM of\", num1, \"and\", num2, \"is\", lcm)\n",
    "except ValueError:\n",
    "    print(\"Please enter valid integers.\")\n"
   ]
  },
  {
   "cell_type": "code",
   "execution_count": null,
   "metadata": {},
   "outputs": [],
   "source": []
  }
 ],
 "metadata": {
  "kernelspec": {
   "display_name": "Python 3",
   "language": "python",
   "name": "python3"
  },
  "language_info": {
   "codemirror_mode": {
    "name": "ipython",
    "version": 3
   },
   "file_extension": ".py",
   "mimetype": "text/x-python",
   "name": "python",
   "nbconvert_exporter": "python",
   "pygments_lexer": "ipython3",
   "version": "3.10.12"
  }
 },
 "nbformat": 4,
 "nbformat_minor": 2
}
